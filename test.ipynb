{
 "cells": [
  {
   "cell_type": "code",
   "execution_count": 1,
   "metadata": {},
   "outputs": [],
   "source": [
    "import pandas as pd\n",
    "import numpy as np\n",
    "import seaborn as sns\n",
    "import matplotlib.pyplot as plt\n",
    "import altair as alt\n",
    "from scipy.stats import mode\n",
    "from sklearn.cluster import KMeans\n",
    "from sklearn.cluster import AgglomerativeClustering\n",
    "import random\n",
    "import math\n",
    "import json\n",
    "import time\n",
    "import os\n",
    "import scipy.stats as stats\n",
    "from scipy.stats import kendalltau\n",
    "import re\n",
    "plt.rcParams['font.family'] = 'DejaVu Sans'\n",
    "from typing import List, Optional\n",
    "\n",
    "import utils"
   ]
  },
  {
   "cell_type": "code",
   "execution_count": 2,
   "metadata": {},
   "outputs": [
    {
     "data": {
      "text/html": [
       "<div>\n",
       "<style scoped>\n",
       "    .dataframe tbody tr th:only-of-type {\n",
       "        vertical-align: middle;\n",
       "    }\n",
       "\n",
       "    .dataframe tbody tr th {\n",
       "        vertical-align: top;\n",
       "    }\n",
       "\n",
       "    .dataframe thead th {\n",
       "        text-align: right;\n",
       "    }\n",
       "</style>\n",
       "<table border=\"1\" class=\"dataframe\">\n",
       "  <thead>\n",
       "    <tr style=\"text-align: right;\">\n",
       "      <th></th>\n",
       "      <th>participant</th>\n",
       "      <th>biomarker</th>\n",
       "      <th>measurement</th>\n",
       "      <th>diseased</th>\n",
       "    </tr>\n",
       "  </thead>\n",
       "  <tbody>\n",
       "    <tr>\n",
       "      <th>0</th>\n",
       "      <td>0</td>\n",
       "      <td>HIP-FCI (1)</td>\n",
       "      <td>-6.478694</td>\n",
       "      <td>True</td>\n",
       "    </tr>\n",
       "    <tr>\n",
       "      <th>1</th>\n",
       "      <td>1</td>\n",
       "      <td>HIP-FCI (1)</td>\n",
       "      <td>0.971910</td>\n",
       "      <td>True</td>\n",
       "    </tr>\n",
       "    <tr>\n",
       "      <th>2</th>\n",
       "      <td>2</td>\n",
       "      <td>HIP-FCI (1)</td>\n",
       "      <td>-1.679449</td>\n",
       "      <td>True</td>\n",
       "    </tr>\n",
       "    <tr>\n",
       "      <th>3</th>\n",
       "      <td>3</td>\n",
       "      <td>HIP-FCI (1)</td>\n",
       "      <td>-9.749598</td>\n",
       "      <td>True</td>\n",
       "    </tr>\n",
       "    <tr>\n",
       "      <th>4</th>\n",
       "      <td>4</td>\n",
       "      <td>HIP-FCI (1)</td>\n",
       "      <td>6.355445</td>\n",
       "      <td>True</td>\n",
       "    </tr>\n",
       "  </tbody>\n",
       "</table>\n",
       "</div>"
      ],
      "text/plain": [
       "   participant    biomarker  measurement  diseased\n",
       "0            0  HIP-FCI (1)    -6.478694      True\n",
       "1            1  HIP-FCI (1)     0.971910      True\n",
       "2            2  HIP-FCI (1)    -1.679449      True\n",
       "3            3  HIP-FCI (1)    -9.749598      True\n",
       "4            4  HIP-FCI (1)     6.355445      True"
      ]
     },
     "execution_count": 2,
     "metadata": {},
     "output_type": "execute_result"
    }
   ],
   "source": [
    "data = pd.read_csv(\"data/synthetic/5|50.csv\")\n",
    "biomarker_df = data[data['biomarker'] == \"HIP-FCI (1)\"].reset_index(drop=True)\n",
    "biomarker_df.head()"
   ]
  },
  {
   "cell_type": "code",
   "execution_count": 3,
   "metadata": {},
   "outputs": [
    {
     "data": {
      "text/plain": [
       "array([ -6.47869406,   0.97190956,  -1.6794493 ,  -9.74959777,\n",
       "         6.35544488,   1.24766926,   1.12557536,   9.8238457 ,\n",
       "        -7.14583467,   2.44920504,   8.75654243,  -0.18754759,\n",
       "        -0.22802603,  -8.43810928,  -1.52692228, -13.79810626,\n",
       "        -8.65548913,  -7.05471431,  -3.24417868,  -6.65935328,\n",
       "         7.5461844 ,  -2.8848049 ,   5.8309055 , -12.35114877,\n",
       "       -10.59805685, -12.33427578,   9.16934171,  -6.15459225,\n",
       "       -13.14885106,  -4.75569505,  -0.12540885,  -2.41557142,\n",
       "         7.66126459,   2.19719472, -14.56447599,  -5.97423647,\n",
       "        -5.49056799, -14.34299008,   4.95096849, -12.27604413,\n",
       "        -2.13659689,  -8.67773602,  -8.16773116,   6.11274656,\n",
       "        -5.02316793,  -8.31486091,  -5.34962163,  -9.23721014,\n",
       "       -17.45340079,  -3.12139616])"
      ]
     },
     "execution_count": 3,
     "metadata": {},
     "output_type": "execute_result"
    }
   ],
   "source": [
    "biomarker_df.measurement.values"
   ]
  },
  {
   "cell_type": "code",
   "execution_count": 4,
   "metadata": {},
   "outputs": [],
   "source": [
    "# reshape to satisfy sklearn requirements\n",
    "measurements = np.array(biomarker_df['measurement']).reshape(-1, 1)\n",
    "\n",
    "# dataframe for non-diseased participants\n",
    "healthy_df = biomarker_df[biomarker_df['diseased'] == False]\n"
   ]
  },
  {
   "cell_type": "code",
   "execution_count": 5,
   "metadata": {},
   "outputs": [],
   "source": [
    "kmeans_setup = KMeans(2, random_state=0, n_init=\"auto\")\n",
    "hierarchical_clustering_setup = AgglomerativeClustering(n_clusters=2)"
   ]
  },
  {
   "cell_type": "code",
   "execution_count": 6,
   "metadata": {},
   "outputs": [
    {
     "data": {
      "text/plain": [
       "array([0, 1, 1, 0, 1, 1, 1, 1, 0, 1, 1, 1, 1, 0, 1, 0, 0, 0, 0, 0, 1, 0,\n",
       "       1, 0, 0, 0, 1, 0, 0, 0, 1, 1, 1, 1, 0, 0, 0, 0, 1, 0, 1, 0, 0, 1,\n",
       "       0, 0, 0, 0, 0, 0], dtype=int32)"
      ]
     },
     "execution_count": 6,
     "metadata": {},
     "output_type": "execute_result"
    }
   ],
   "source": [
    "clustering_result_kmeans = kmeans_setup.fit(measurements)\n",
    "clustering_result_kmeans.labels_"
   ]
  },
  {
   "cell_type": "code",
   "execution_count": 7,
   "metadata": {},
   "outputs": [
    {
     "data": {
      "text/plain": [
       "array([0, 1, 1, 0, 1, 1, 1, 1, 0, 1, 1, 1, 1, 0, 1, 0, 0, 0, 0, 0, 1, 0,\n",
       "       1, 0, 0, 0, 1, 0, 0, 0, 1, 1, 1, 1, 0, 0, 0, 0, 1, 0, 1, 0, 0, 1,\n",
       "       0, 0, 0, 0, 0, 0], dtype=int32)"
      ]
     },
     "execution_count": 7,
     "metadata": {},
     "output_type": "execute_result"
    }
   ],
   "source": [
    "clustering_result_kmeans.predict(measurements)"
   ]
  },
  {
   "cell_type": "code",
   "execution_count": 8,
   "metadata": {},
   "outputs": [
    {
     "ename": "TypeError",
     "evalue": "compute_theta_phi_for_biomarker() got an unexpected keyword argument 'clustering_setup'",
     "output_type": "error",
     "traceback": [
      "\u001b[0;31m---------------------------------------------------------------------------\u001b[0m",
      "\u001b[0;31mTypeError\u001b[0m                                 Traceback (most recent call last)",
      "Cell \u001b[0;32mIn[8], line 1\u001b[0m\n\u001b[0;32m----> 1\u001b[0m theta_mean, theta_std, phi_mean, phi_std \u001b[38;5;241m=\u001b[39m \u001b[43mutils\u001b[49m\u001b[38;5;241;43m.\u001b[39;49m\u001b[43mcompute_theta_phi_for_biomarker\u001b[49m\u001b[43m(\u001b[49m\n\u001b[1;32m      2\u001b[0m \u001b[43m    \u001b[49m\u001b[43mdata\u001b[49m\u001b[43m,\u001b[49m\u001b[43m \u001b[49m\u001b[38;5;124;43m\"\u001b[39;49m\u001b[38;5;124;43mHIP-FCI (1)\u001b[39;49m\u001b[38;5;124;43m\"\u001b[39;49m\u001b[43m,\u001b[49m\u001b[43m \u001b[49m\u001b[43mclustering_setup\u001b[49m\u001b[43m \u001b[49m\u001b[38;5;241;43m=\u001b[39;49m\u001b[43m \u001b[49m\u001b[38;5;28;43;01mNone\u001b[39;49;00m\u001b[43m)\u001b[49m\n",
      "\u001b[0;31mTypeError\u001b[0m: compute_theta_phi_for_biomarker() got an unexpected keyword argument 'clustering_setup'"
     ]
    }
   ],
   "source": [
    "theta_mean, theta_std, phi_mean, phi_std = utils.compute_theta_phi_for_biomarker(\n",
    "    data, \"HIP-FCI (1)\", clustering_setup = None)"
   ]
  },
  {
   "cell_type": "code",
   "execution_count": null,
   "metadata": {},
   "outputs": [
    {
     "data": {
      "text/plain": [
       "(-8.670515224654201, 3.7456773038825366, 3.1380607558332643, 3.979854599286057)"
      ]
     },
     "execution_count": 26,
     "metadata": {},
     "output_type": "execute_result"
    }
   ],
   "source": [
    "theta_mean, theta_std, phi_mean, phi_std"
   ]
  },
  {
   "cell_type": "code",
   "execution_count": 9,
   "metadata": {},
   "outputs": [
    {
     "data": {
      "text/plain": [
       "{'HIP-FCI (1)': {'theta_mean': -8.670515224654201,\n",
       "  'theta_std': 3.7456773038825366,\n",
       "  'phi_mean': 3.1380607558332643,\n",
       "  'phi_std': 3.9798545992860563},\n",
       " 'PCC-FCI (2)': {'theta_mean': 3.8477722684768514,\n",
       "  'theta_std': 2.240421770525342,\n",
       "  'phi_mean': 11.802146434595763,\n",
       "  'phi_std': 2.6699676610506673},\n",
       " 'HIP-GMI (3)': {'theta_mean': 0.2834803893887619,\n",
       "  'theta_std': 0.2632128475918643,\n",
       "  'phi_mean': 0.2834803893887619,\n",
       "  'phi_std': 0.2632128475918643},\n",
       " 'FUS-GMI (4)': {'theta_mean': 0.4931581629003902,\n",
       "  'theta_std': 0.06414911515382,\n",
       "  'phi_mean': 0.4931581629003902,\n",
       "  'phi_std': 0.06414911515382},\n",
       " 'FUS-FCI (5)': {'theta_mean': -19.698716486692724,\n",
       "  'theta_std': 5.426383241871959,\n",
       "  'phi_mean': -9.264096908187947,\n",
       "  'phi_std': 2.4969637281638892}}"
      ]
     },
     "execution_count": 9,
     "metadata": {},
     "output_type": "execute_result"
    }
   ],
   "source": [
    "biomarkers = data.biomarker.unique()\n",
    "utils.get_theta_phi_estimates(data, biomarkers)"
   ]
  },
  {
   "cell_type": "code",
   "execution_count": null,
   "metadata": {},
   "outputs": [],
   "source": []
  }
 ],
 "metadata": {
  "kernelspec": {
   "display_name": "bayes",
   "language": "python",
   "name": "python3"
  },
  "language_info": {
   "codemirror_mode": {
    "name": "ipython",
    "version": 3
   },
   "file_extension": ".py",
   "mimetype": "text/x-python",
   "name": "python",
   "nbconvert_exporter": "python",
   "pygments_lexer": "ipython3",
   "version": "3.8.19"
  }
 },
 "nbformat": 4,
 "nbformat_minor": 2
}
