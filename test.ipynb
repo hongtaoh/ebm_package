{
 "cells": [
  {
   "cell_type": "code",
   "execution_count": 1,
   "metadata": {},
   "outputs": [],
   "source": [
    "import json \n",
    "import pandas as pd \n",
    "import soft_kmeans_alg \n",
    "import new_utils \n",
    "import json \n",
    "from scipy.stats import kendalltau"
   ]
  },
  {
   "cell_type": "code",
   "execution_count": 2,
   "metadata": {},
   "outputs": [],
   "source": [
    "n_shuffle = 2\n",
    "iterations = 100\n",
    "burn_in = 10\n",
    "thining = 2"
   ]
  },
  {
   "cell_type": "code",
   "execution_count": 3,
   "metadata": {},
   "outputs": [],
   "source": [
    "data = pd.read_csv(\"data/synthetic/5|50_2.csv\")\n",
    "data.head()\n",
    "n_biomarkers = len(data.biomarker.unique())\n",
    "# biomarker_df = data[data['biomarker'] == \"HIP-FCI (1)\"].reset_index(drop=True)\n",
    "# biomarker_df.head()"
   ]
  },
  {
   "cell_type": "code",
   "execution_count": 4,
   "metadata": {},
   "outputs": [
    {
     "name": "stdout",
     "output_type": "stream",
     "text": [
      "iteration 10 done, current accepted likelihood: -357.2684627993102, current acceptance ratio is 40.00 %, current accepted order is {'HIP-FCI (1)': 4, 'PCC-FCI (2)': 2, 'HIP-GMI (3)': 1, 'FUS-GMI (4)': 3, 'FUS-FCI (5)': 5}, \n",
      "iteration 20 done, current accepted likelihood: -332.3792331191731, current acceptance ratio is 35.00 %, current accepted order is {'HIP-FCI (1)': 1, 'PCC-FCI (2)': 2, 'HIP-GMI (3)': 4, 'FUS-GMI (4)': 3, 'FUS-FCI (5)': 5}, \n",
      "iteration 30 done, current accepted likelihood: -332.3792331191731, current acceptance ratio is 23.33 %, current accepted order is {'HIP-FCI (1)': 1, 'PCC-FCI (2)': 2, 'HIP-GMI (3)': 4, 'FUS-GMI (4)': 3, 'FUS-FCI (5)': 5}, \n",
      "iteration 40 done, current accepted likelihood: -332.1403343275587, current acceptance ratio is 30.00 %, current accepted order is {'HIP-FCI (1)': 1, 'PCC-FCI (2)': 2, 'HIP-GMI (3)': 4, 'FUS-GMI (4)': 3, 'FUS-FCI (5)': 5}, \n",
      "iteration 50 done, current accepted likelihood: -332.1403343275587, current acceptance ratio is 24.00 %, current accepted order is {'HIP-FCI (1)': 1, 'PCC-FCI (2)': 2, 'HIP-GMI (3)': 4, 'FUS-GMI (4)': 3, 'FUS-FCI (5)': 5}, \n",
      "iteration 60 done, current accepted likelihood: -332.1403343275587, current acceptance ratio is 20.00 %, current accepted order is {'HIP-FCI (1)': 1, 'PCC-FCI (2)': 2, 'HIP-GMI (3)': 4, 'FUS-GMI (4)': 3, 'FUS-FCI (5)': 5}, \n",
      "iteration 70 done, current accepted likelihood: -331.32538806141076, current acceptance ratio is 24.29 %, current accepted order is {'HIP-FCI (1)': 1, 'PCC-FCI (2)': 2, 'HIP-GMI (3)': 4, 'FUS-GMI (4)': 3, 'FUS-FCI (5)': 5}, \n",
      "iteration 80 done, current accepted likelihood: -331.32538806141076, current acceptance ratio is 21.25 %, current accepted order is {'HIP-FCI (1)': 1, 'PCC-FCI (2)': 2, 'HIP-GMI (3)': 4, 'FUS-GMI (4)': 3, 'FUS-FCI (5)': 5}, \n",
      "iteration 90 done, current accepted likelihood: -331.32538806141076, current acceptance ratio is 18.89 %, current accepted order is {'HIP-FCI (1)': 1, 'PCC-FCI (2)': 2, 'HIP-GMI (3)': 4, 'FUS-GMI (4)': 3, 'FUS-FCI (5)': 5}, \n",
      "iteration 100 done, current accepted likelihood: -331.32538806141076, current acceptance ratio is 17.00 %, current accepted order is {'HIP-FCI (1)': 1, 'PCC-FCI (2)': 2, 'HIP-GMI (3)': 4, 'FUS-GMI (4)': 3, 'FUS-FCI (5)': 5}, \n",
      "done!\n"
     ]
    }
   ],
   "source": [
    "all_current_accepted_order_dicts = soft_kmeans_alg.metropolis_hastings_soft_kmeans(\n",
    "    data,\n",
    "    iterations,\n",
    "    n_shuffle,\n",
    ")"
   ]
  },
  {
   "cell_type": "code",
   "execution_count": 7,
   "metadata": {},
   "outputs": [],
   "source": [
    "new_utils.save_heatmap(all_current_accepted_order_dicts,\n",
    "                       burn_in, thining, folder_name='img',\n",
    "                       file_name='test_heatmap', title='heatmap')"
   ]
  },
  {
   "cell_type": "code",
   "execution_count": 8,
   "metadata": {},
   "outputs": [],
   "source": [
    "most_likely_order_dic = new_utils.obtain_most_likely_order_dic(\n",
    "    all_current_accepted_order_dicts, burn_in, thining)\n",
    "most_likely_order = list(most_likely_order_dic.values())\n",
    "tau, p_value = kendalltau(most_likely_order, range(1, n_biomarkers + 1))\n",
    "dic = {}\n",
    "dic['5|50'] = []\n",
    "dic['5|50'].append(tau)\n",
    "# write the JSON to a file\n",
    "with open(\"results.json\", \"w\") as file:\n",
    "    json.dump(dic, file, indent=4)"
   ]
  },
  {
   "cell_type": "code",
   "execution_count": 1,
   "metadata": {},
   "outputs": [],
   "source": [
    "# new_utils.get_theta_phi_estimates(data)"
   ]
  },
  {
   "cell_type": "code",
   "execution_count": 5,
   "metadata": {},
   "outputs": [],
   "source": [
    "# biomarker_df.measurement.values"
   ]
  },
  {
   "cell_type": "code",
   "execution_count": 6,
   "metadata": {},
   "outputs": [],
   "source": [
    "# # reshape to satisfy sklearn requirements\n",
    "# measurements = np.array(biomarker_df['measurement']).reshape(-1, 1)\n",
    "\n",
    "# # dataframe for non-diseased participants\n",
    "# healthy_df = biomarker_df[biomarker_df['diseased'] == False]\n"
   ]
  },
  {
   "cell_type": "code",
   "execution_count": 7,
   "metadata": {},
   "outputs": [],
   "source": [
    "# kmeans_setup = KMeans(2, random_state=0, n_init=\"auto\")\n",
    "# hierarchical_clustering_setup = AgglomerativeClustering(n_clusters=2)"
   ]
  },
  {
   "cell_type": "code",
   "execution_count": 8,
   "metadata": {},
   "outputs": [],
   "source": [
    "# clustering_result_kmeans = kmeans_setup.fit(measurements)\n",
    "# clustering_result_kmeans.labels_"
   ]
  },
  {
   "cell_type": "code",
   "execution_count": 9,
   "metadata": {},
   "outputs": [],
   "source": [
    "# clustering_result_kmeans.predict(measurements)"
   ]
  },
  {
   "cell_type": "code",
   "execution_count": 10,
   "metadata": {},
   "outputs": [],
   "source": [
    "# theta_mean, theta_std, phi_mean, phi_std = utils.compute_theta_phi_for_biomarker(\n",
    "#     data, \"HIP-FCI (1)\", clustering_setup = None)"
   ]
  },
  {
   "cell_type": "code",
   "execution_count": 11,
   "metadata": {},
   "outputs": [],
   "source": [
    "# theta_mean, theta_std, phi_mean, phi_std"
   ]
  },
  {
   "cell_type": "code",
   "execution_count": 12,
   "metadata": {},
   "outputs": [],
   "source": [
    "# biomarkers = data.biomarker.unique()\n",
    "# utils.get_theta_phi_estimates(data, biomarkers)"
   ]
  },
  {
   "cell_type": "code",
   "execution_count": null,
   "metadata": {},
   "outputs": [],
   "source": []
  }
 ],
 "metadata": {
  "kernelspec": {
   "display_name": "bayes",
   "language": "python",
   "name": "python3"
  },
  "language_info": {
   "codemirror_mode": {
    "name": "ipython",
    "version": 3
   },
   "file_extension": ".py",
   "mimetype": "text/x-python",
   "name": "python",
   "nbconvert_exporter": "python",
   "pygments_lexer": "ipython3",
   "version": "3.8.19"
  }
 },
 "nbformat": 4,
 "nbformat_minor": 2
}
